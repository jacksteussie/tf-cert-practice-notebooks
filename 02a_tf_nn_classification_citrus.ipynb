{
 "cells": [
  {
   "attachments": {},
   "cell_type": "markdown",
   "metadata": {},
   "source": [
    "## Citrus Classification Logistic Regression Task\n",
    "\n",
    "## Dataset \n",
    "\n",
    "### Oranges vs. Grapefruit\n",
    "The task of separating oranges and grapefruit is fairly obvious to a human, but even with manual observation there is still a bit of error. This dataset takes the `color`, `weight`, and `diameter` of an \"average\" orange and grapefruit and generates a larger dataset containing a wide variety of values and are \"oranges\" and \"grapefruit\". Also contains `red`, `green`, and `blue` values to describe the color of the fruit."
   ]
  },
  {
   "cell_type": "code",
   "execution_count": null,
   "metadata": {},
   "outputs": [],
   "source": [
    "%load_ext tensorboard\n",
    "\n",
    "import pandas as pd\n",
    "import numpy as np\n",
    "import tensorflow as tf\n",
    "import os\n",
    "from copy import deepcopy"
   ]
  },
  {
   "cell_type": "code",
   "execution_count": null,
   "metadata": {},
   "outputs": [],
   "source": [
    "DATA_PATH = 'data/talkingdata-classification/'\n",
    "LOG_DIR = 'logs/talkingdata-classification/'\n",
    "MODEL_PATH = 'models/talkingdata-classification/'\n",
    "RELOAD_DATA = False"
   ]
  }
 ],
 "metadata": {
  "kernelspec": {
   "display_name": "tf_m1",
   "language": "python",
   "name": "python3"
  },
  "language_info": {
   "name": "python",
   "version": "3.9.10"
  },
  "orig_nbformat": 4
 },
 "nbformat": 4,
 "nbformat_minor": 2
}
